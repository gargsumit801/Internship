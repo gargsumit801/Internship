{
 "cells": [
  {
   "cell_type": "code",
   "execution_count": 1,
   "id": "b2a8450e",
   "metadata": {},
   "outputs": [
    {
     "name": "stdout",
     "output_type": "stream",
     "text": [
      "Requirement already satisfied: requests in c:\\users\\nikhi\\anaconda3\\lib\\site-packages (2.31.0)\n",
      "Requirement already satisfied: charset-normalizer<4,>=2 in c:\\users\\nikhi\\anaconda3\\lib\\site-packages (from requests) (2.0.4)\n",
      "Requirement already satisfied: idna<4,>=2.5 in c:\\users\\nikhi\\anaconda3\\lib\\site-packages (from requests) (3.4)\n",
      "Requirement already satisfied: urllib3<3,>=1.21.1 in c:\\users\\nikhi\\anaconda3\\lib\\site-packages (from requests) (1.26.16)\n",
      "Requirement already satisfied: certifi>=2017.4.17 in c:\\users\\nikhi\\anaconda3\\lib\\site-packages (from requests) (2023.7.22)\n",
      "Requirement already satisfied: bs4 in c:\\users\\nikhi\\anaconda3\\lib\\site-packages (0.0.2)\n",
      "Requirement already satisfied: beautifulsoup4 in c:\\users\\nikhi\\anaconda3\\lib\\site-packages (from bs4) (4.12.2)\n",
      "Requirement already satisfied: soupsieve>1.2 in c:\\users\\nikhi\\anaconda3\\lib\\site-packages (from beautifulsoup4->bs4) (2.4)\n"
     ]
    }
   ],
   "source": [
    "!pip install requests\n",
    "!pip install bs4"
   ]
  },
  {
   "cell_type": "code",
   "execution_count": 2,
   "id": "4335cf2e",
   "metadata": {},
   "outputs": [],
   "source": [
    "from bs4 import BeautifulSoup\n",
    "import requests\n",
    "import pandas as pd"
   ]
  },
  {
   "cell_type": "markdown",
   "id": "04e112ae",
   "metadata": {},
   "source": [
    "## Q 1) Write a python program to display IMDB’s Top rated 100 Indian movies’ data\n",
    "https://www.imdb.com/list/ls056092300/ (i.e. name, rating, year ofrelease) and make data frame."
   ]
  },
  {
   "cell_type": "code",
   "execution_count": 643,
   "id": "ef40d8fb",
   "metadata": {},
   "outputs": [],
   "source": [
    "web = requests.get('https://www.imdb.com/list/ls056092300/')"
   ]
  },
  {
   "cell_type": "code",
   "execution_count": 644,
   "id": "883cbdab",
   "metadata": {},
   "outputs": [],
   "source": [
    "soup = BeautifulSoup(web.content)"
   ]
  },
  {
   "cell_type": "code",
   "execution_count": 645,
   "id": "010719fd",
   "metadata": {},
   "outputs": [],
   "source": [
    "name = soup.find_all('h3',class_=\"lister-item-header\")"
   ]
  },
  {
   "cell_type": "code",
   "execution_count": 646,
   "id": "d6642b2d",
   "metadata": {},
   "outputs": [],
   "source": [
    "Movie_name = []\n",
    "for i in name:\n",
    "    for j in i.find_all('a'):\n",
    "        Movie_name.append(j.text)"
   ]
  },
  {
   "cell_type": "code",
   "execution_count": 647,
   "id": "b77f75ad",
   "metadata": {},
   "outputs": [
    {
     "data": {
      "text/plain": [
       "['Ship of Theseus',\n",
       " 'Iruvar',\n",
       " 'Kaagaz Ke Phool',\n",
       " 'Lagaan: Once Upon a Time in India',\n",
       " 'Pather Panchali',\n",
       " 'Charulata',\n",
       " 'Rang De Basanti',\n",
       " 'Dev.D',\n",
       " '3 Idiots',\n",
       " 'Awaara',\n",
       " 'Nayakan',\n",
       " 'Aparajito',\n",
       " 'Pushpaka Vimana',\n",
       " 'Pyaasa',\n",
       " 'Ghatashraddha',\n",
       " 'Sholay',\n",
       " 'Aradhana',\n",
       " 'Do Ankhen Barah Haath',\n",
       " 'Bombay',\n",
       " 'Neecha Nagar',\n",
       " 'Do Bigha Zamin',\n",
       " 'Garm Hava',\n",
       " 'Piravi',\n",
       " 'Mughal-E-Azam',\n",
       " 'Amma Ariyan',\n",
       " 'Madhumati',\n",
       " 'Goopy Gyne Bagha Byne',\n",
       " 'Gangs of Wasseypur',\n",
       " 'Guide',\n",
       " 'Satya',\n",
       " 'Roja',\n",
       " 'Mr. India',\n",
       " 'The Cloud-Capped Star',\n",
       " 'Harishchandrachi Factory',\n",
       " 'Masoom',\n",
       " 'Agneepath',\n",
       " 'Tabarana Kathe',\n",
       " 'Zakhm',\n",
       " 'Dil Chahta Hai',\n",
       " 'Bhaag Milkha Bhaag',\n",
       " 'Chupke Chupke',\n",
       " 'Dilwale Dulhania Le Jayenge',\n",
       " 'Taare Zameen Par',\n",
       " 'Ardh Satya',\n",
       " 'Bhumika',\n",
       " 'Enthiran',\n",
       " 'Sadma',\n",
       " 'Shwaas',\n",
       " 'Lamhe',\n",
       " 'Haqeeqat',\n",
       " 'Shree 420',\n",
       " 'Kannathil Muthamittal',\n",
       " 'Hum Aapke Hain Koun..!',\n",
       " 'Ustad Hotel',\n",
       " 'Bandit Queen',\n",
       " 'Lakshya',\n",
       " 'Black Friday',\n",
       " 'Manthan',\n",
       " 'Apoorva Raagangal',\n",
       " 'English Vinglish',\n",
       " 'Jewel Thief',\n",
       " 'Pakeezah',\n",
       " 'Maqbool',\n",
       " 'Jis Desh Men Ganga Behti Hai',\n",
       " 'Sahib Bibi Aur Ghulam',\n",
       " 'Shatranj Ke Khilari',\n",
       " 'Narthanasala',\n",
       " 'Chandni Bar',\n",
       " 'Vaaranam Aayiram',\n",
       " 'Mr. and Mrs. Iyer',\n",
       " 'Chandni',\n",
       " 'English, August',\n",
       " 'Celluloid',\n",
       " 'Sagara Sangamam',\n",
       " 'Munna Bhai M.B.B.S.',\n",
       " 'Saaransh',\n",
       " 'Guddi',\n",
       " 'Vanaja',\n",
       " 'Vazhakku Enn 18/9',\n",
       " 'Gangaajal',\n",
       " 'Angoor',\n",
       " 'Guru',\n",
       " 'Andaz Apna Apna',\n",
       " 'Sangam',\n",
       " 'Oka Oori Katha',\n",
       " 'Bhuvan Shome',\n",
       " 'Border',\n",
       " 'Parineeta',\n",
       " 'Devdas',\n",
       " 'Abohomaan',\n",
       " 'Kuch Kuch Hota Hai',\n",
       " 'Pithamagan',\n",
       " 'Veyyil',\n",
       " 'Chemmeen',\n",
       " 'Jaane Bhi Do Yaaro',\n",
       " 'Apur Sansar',\n",
       " 'Kanchivaram',\n",
       " 'Monsoon Wedding',\n",
       " 'Black',\n",
       " 'Deewaar']"
      ]
     },
     "execution_count": 647,
     "metadata": {},
     "output_type": "execute_result"
    }
   ],
   "source": [
    "Movie_name"
   ]
  },
  {
   "cell_type": "code",
   "execution_count": 648,
   "id": "b2eee208",
   "metadata": {},
   "outputs": [],
   "source": [
    "year = []\n",
    "for i in soup.find_all('span',class_=\"lister-item-year text-muted unbold\"):\n",
    "    a=i.text.replace('(','')\n",
    "    year.append(a.replace(')',''))"
   ]
  },
  {
   "cell_type": "code",
   "execution_count": 649,
   "id": "d9013bcc",
   "metadata": {},
   "outputs": [
    {
     "data": {
      "text/plain": [
       "['2012',\n",
       " '1997',\n",
       " '1959',\n",
       " '2001',\n",
       " '1955',\n",
       " '1964',\n",
       " '2006',\n",
       " '2009',\n",
       " '2009',\n",
       " '1951',\n",
       " '1987',\n",
       " '1956',\n",
       " '1987',\n",
       " '1957',\n",
       " '1977',\n",
       " '1975',\n",
       " '1969',\n",
       " '1957',\n",
       " '1995',\n",
       " '1946',\n",
       " '1953',\n",
       " '1974',\n",
       " '1989',\n",
       " '1960',\n",
       " '1986',\n",
       " '1958',\n",
       " '1969',\n",
       " '2012',\n",
       " '1965',\n",
       " '1998',\n",
       " '1992',\n",
       " '1987',\n",
       " '1960',\n",
       " '2009',\n",
       " '1983',\n",
       " '1990',\n",
       " '1986',\n",
       " '1998',\n",
       " '2001',\n",
       " '2013',\n",
       " '1975',\n",
       " '1995',\n",
       " '2007',\n",
       " '1983',\n",
       " '1977',\n",
       " '2010',\n",
       " '1983',\n",
       " '2004',\n",
       " '1991',\n",
       " '1964',\n",
       " '1955',\n",
       " '2002',\n",
       " '1994',\n",
       " '2012',\n",
       " '1994',\n",
       " '2004',\n",
       " '2004',\n",
       " '1976',\n",
       " '1975',\n",
       " '2012',\n",
       " '1967',\n",
       " '1972',\n",
       " '2003',\n",
       " '1960',\n",
       " '1962',\n",
       " '1977',\n",
       " '1963',\n",
       " '2001',\n",
       " '2008',\n",
       " '2002',\n",
       " '1989',\n",
       " '1994',\n",
       " '2013',\n",
       " '1983',\n",
       " '2003',\n",
       " '1984',\n",
       " '1971',\n",
       " '2006',\n",
       " '2012',\n",
       " '2003',\n",
       " '1982',\n",
       " '2007',\n",
       " '1994',\n",
       " 'I 1964',\n",
       " '1978',\n",
       " '1969',\n",
       " 'I 1997',\n",
       " '2005',\n",
       " '1955',\n",
       " '2009',\n",
       " '1998',\n",
       " '2003',\n",
       " '2006',\n",
       " '1965',\n",
       " '1983',\n",
       " '1959',\n",
       " '2008',\n",
       " '2001',\n",
       " '2005',\n",
       " '1975']"
      ]
     },
     "execution_count": 649,
     "metadata": {},
     "output_type": "execute_result"
    }
   ],
   "source": [
    "year"
   ]
  },
  {
   "cell_type": "code",
   "execution_count": 650,
   "id": "45a0ef03",
   "metadata": {},
   "outputs": [],
   "source": [
    "rate =[]\n",
    "for i in soup.find_all('div',class_=\"ipl-rating-star small\"):\n",
    "    rate.append(i.text.strip())"
   ]
  },
  {
   "cell_type": "code",
   "execution_count": 651,
   "id": "eca3786b",
   "metadata": {},
   "outputs": [
    {
     "data": {
      "text/plain": [
       "['8',\n",
       " '8.4',\n",
       " '7.8',\n",
       " '8.1',\n",
       " '8.2',\n",
       " '8.1',\n",
       " '8.1',\n",
       " '7.9',\n",
       " '8.4',\n",
       " '7.8',\n",
       " '8.6',\n",
       " '8.2',\n",
       " '8.6',\n",
       " '8.3',\n",
       " '7.6',\n",
       " '8.1',\n",
       " '7.6',\n",
       " '8.4',\n",
       " '8.1',\n",
       " '6.7',\n",
       " '8.3',\n",
       " '8.1',\n",
       " '7.8',\n",
       " '8.1',\n",
       " '7.4',\n",
       " '7.8',\n",
       " '8.7',\n",
       " '8.2',\n",
       " '8.3',\n",
       " '8.3',\n",
       " '8.1',\n",
       " '7.7',\n",
       " '7.8',\n",
       " '8.4',\n",
       " '8.4',\n",
       " '7.6',\n",
       " '8.1',\n",
       " '7.9',\n",
       " '8.1',\n",
       " '8.2',\n",
       " '8.3',\n",
       " '8',\n",
       " '8.3',\n",
       " '8.1',\n",
       " '7.4',\n",
       " '7.1',\n",
       " '8.3',\n",
       " '8.2',\n",
       " '7.2',\n",
       " '7.8',\n",
       " '7.9',\n",
       " '8.4',\n",
       " '7.5',\n",
       " '8.2',\n",
       " '7.5',\n",
       " '7.8',\n",
       " '8.4',\n",
       " '7.6',\n",
       " '7.6',\n",
       " '7.8',\n",
       " '7.9',\n",
       " '7.2',\n",
       " '8',\n",
       " '7.1',\n",
       " '8.1',\n",
       " '7.5',\n",
       " '8.1',\n",
       " '7.6',\n",
       " '8.2',\n",
       " '7.9',\n",
       " '6.7',\n",
       " '7.6',\n",
       " '7.7',\n",
       " '8.8',\n",
       " '8.1',\n",
       " '8.1',\n",
       " '7.2',\n",
       " '7.2',\n",
       " '8.3',\n",
       " '7.8',\n",
       " '8.3',\n",
       " '7.7',\n",
       " '8',\n",
       " '7.3',\n",
       " '7.8',\n",
       " '7.2',\n",
       " '7.9',\n",
       " '7.2',\n",
       " '7.7',\n",
       " '7.5',\n",
       " '7.5',\n",
       " '8.3',\n",
       " '7.8',\n",
       " '7.8',\n",
       " '8.3',\n",
       " '8.4',\n",
       " '8.2',\n",
       " '7.3',\n",
       " '8.1',\n",
       " '8']"
      ]
     },
     "execution_count": 651,
     "metadata": {},
     "output_type": "execute_result"
    }
   ],
   "source": [
    "rate"
   ]
  },
  {
   "cell_type": "code",
   "execution_count": 652,
   "id": "a1fb18e6",
   "metadata": {},
   "outputs": [],
   "source": [
    "df = pd.DataFrame({'Movie_name':Movie_name,'year':year,'rate':rate})"
   ]
  },
  {
   "cell_type": "code",
   "execution_count": 653,
   "id": "d9842da9",
   "metadata": {},
   "outputs": [
    {
     "data": {
      "text/html": [
       "<div>\n",
       "<style scoped>\n",
       "    .dataframe tbody tr th:only-of-type {\n",
       "        vertical-align: middle;\n",
       "    }\n",
       "\n",
       "    .dataframe tbody tr th {\n",
       "        vertical-align: top;\n",
       "    }\n",
       "\n",
       "    .dataframe thead th {\n",
       "        text-align: right;\n",
       "    }\n",
       "</style>\n",
       "<table border=\"1\" class=\"dataframe\">\n",
       "  <thead>\n",
       "    <tr style=\"text-align: right;\">\n",
       "      <th></th>\n",
       "      <th>Movie_name</th>\n",
       "      <th>year</th>\n",
       "      <th>rate</th>\n",
       "    </tr>\n",
       "  </thead>\n",
       "  <tbody>\n",
       "    <tr>\n",
       "      <th>0</th>\n",
       "      <td>Ship of Theseus</td>\n",
       "      <td>2012</td>\n",
       "      <td>8</td>\n",
       "    </tr>\n",
       "    <tr>\n",
       "      <th>1</th>\n",
       "      <td>Iruvar</td>\n",
       "      <td>1997</td>\n",
       "      <td>8.4</td>\n",
       "    </tr>\n",
       "    <tr>\n",
       "      <th>2</th>\n",
       "      <td>Kaagaz Ke Phool</td>\n",
       "      <td>1959</td>\n",
       "      <td>7.8</td>\n",
       "    </tr>\n",
       "    <tr>\n",
       "      <th>3</th>\n",
       "      <td>Lagaan: Once Upon a Time in India</td>\n",
       "      <td>2001</td>\n",
       "      <td>8.1</td>\n",
       "    </tr>\n",
       "    <tr>\n",
       "      <th>4</th>\n",
       "      <td>Pather Panchali</td>\n",
       "      <td>1955</td>\n",
       "      <td>8.2</td>\n",
       "    </tr>\n",
       "    <tr>\n",
       "      <th>...</th>\n",
       "      <td>...</td>\n",
       "      <td>...</td>\n",
       "      <td>...</td>\n",
       "    </tr>\n",
       "    <tr>\n",
       "      <th>95</th>\n",
       "      <td>Apur Sansar</td>\n",
       "      <td>1959</td>\n",
       "      <td>8.4</td>\n",
       "    </tr>\n",
       "    <tr>\n",
       "      <th>96</th>\n",
       "      <td>Kanchivaram</td>\n",
       "      <td>2008</td>\n",
       "      <td>8.2</td>\n",
       "    </tr>\n",
       "    <tr>\n",
       "      <th>97</th>\n",
       "      <td>Monsoon Wedding</td>\n",
       "      <td>2001</td>\n",
       "      <td>7.3</td>\n",
       "    </tr>\n",
       "    <tr>\n",
       "      <th>98</th>\n",
       "      <td>Black</td>\n",
       "      <td>2005</td>\n",
       "      <td>8.1</td>\n",
       "    </tr>\n",
       "    <tr>\n",
       "      <th>99</th>\n",
       "      <td>Deewaar</td>\n",
       "      <td>1975</td>\n",
       "      <td>8</td>\n",
       "    </tr>\n",
       "  </tbody>\n",
       "</table>\n",
       "<p>100 rows × 3 columns</p>\n",
       "</div>"
      ],
      "text/plain": [
       "                           Movie_name  year rate\n",
       "0                     Ship of Theseus  2012    8\n",
       "1                              Iruvar  1997  8.4\n",
       "2                     Kaagaz Ke Phool  1959  7.8\n",
       "3   Lagaan: Once Upon a Time in India  2001  8.1\n",
       "4                     Pather Panchali  1955  8.2\n",
       "..                                ...   ...  ...\n",
       "95                        Apur Sansar  1959  8.4\n",
       "96                        Kanchivaram  2008  8.2\n",
       "97                    Monsoon Wedding  2001  7.3\n",
       "98                              Black  2005  8.1\n",
       "99                            Deewaar  1975    8\n",
       "\n",
       "[100 rows x 3 columns]"
      ]
     },
     "execution_count": 653,
     "metadata": {},
     "output_type": "execute_result"
    }
   ],
   "source": [
    "df"
   ]
  },
  {
   "cell_type": "markdown",
   "id": "596abff4",
   "metadata": {},
   "source": [
    "## Q2-Please visit https://www.cnbc.com/world/?region=world and scrap-\n",
    "\n",
    "a) headings\n",
    "\n",
    "b) date\n",
    "\n",
    "c) News link"
   ]
  },
  {
   "cell_type": "code",
   "execution_count": 737,
   "id": "ef2bf667",
   "metadata": {},
   "outputs": [
    {
     "data": {
      "text/plain": [
       "<Response [200]>"
      ]
     },
     "execution_count": 737,
     "metadata": {},
     "output_type": "execute_result"
    }
   ],
   "source": [
    "web = requests.get('https://www.cnbc.com/world/?region=world')\n",
    "web"
   ]
  },
  {
   "cell_type": "code",
   "execution_count": 738,
   "id": "9f0a8bba",
   "metadata": {},
   "outputs": [],
   "source": [
    "soup1 = BeautifulSoup(web.content)"
   ]
  },
  {
   "cell_type": "code",
   "execution_count": 739,
   "id": "880d6831",
   "metadata": {},
   "outputs": [],
   "source": [
    "heading = []\n",
    "for i in soup1.find_all('a',class_=\"LatestNews-headline\"):\n",
    "    heading.append(i.text)"
   ]
  },
  {
   "cell_type": "code",
   "execution_count": 740,
   "id": "03403075",
   "metadata": {},
   "outputs": [
    {
     "data": {
      "text/plain": [
       "['European markets set for gains ahead of euro zone inflation data',\n",
       " 'CNBC Daily Open: Wall Street unfazed by hot inflation data',\n",
       " \"India 'easily' the fastest growing economy, IMF executive director says, as GDP growth blows past estimates\",\n",
       " \"Ukraine's losses on the battlefield could make the war more dangerous for Russia\",\n",
       " 'Europe is having its worst earnings season in 4 years — with little hope of a quick turnaround',\n",
       " 'UK to lead European real estate boom as buyers eye investment opportunities',\n",
       " 'India approves three chip plants with over $15 billion in investments to realize semiconductor ambitions',\n",
       " 'China calls on foreign businesses to share their problems as investment slumps',\n",
       " 'What tech giants are betting on — from robot dogs to wrist-wearable smartphones',\n",
       " 'Facebook is getting rid of the News tab in the U.S. and Australia',\n",
       " \"Japan's factory activity contracts most in over three years\",\n",
       " 'CNBC Daily Open: Hot inflation data but could have been worse',\n",
       " 'Jim Cramer explains why the market rallied on Thursday',\n",
       " 'Tesla stands to earn billions by opening U.S. chargers to drivers of Ford, other EVs',\n",
       " \"Psychologist: The No. 1 'gentle parenting' mistake—and how to avoid it\",\n",
       " '10 best places to buy a winter vacation home based on rental performance',\n",
       " 'CEO says Hormel Foods is well-positioned as weight-loss drugs grow popular',\n",
       " \"Cramer's Lightning Round: Signet Jewelers is a winner\",\n",
       " \"Japan's Nikkei 225 closes shy of 40,000 record level; China markets rise after factory data  \",\n",
       " 'India’s Byju’s lost more than $20 billion in valuation — what went wrong?',\n",
       " 'Veteran advisor sees signs of an AI-fueled market bubble, but not of it bursting',\n",
       " \"Forget cash — it's time to move into fixed income, strategist says\",\n",
       " \"Citi names 'Super 7' global stocks similar to the Magnificent 7 — but cheaper\",\n",
       " \"Death of Foremost CEO Angela Chao under 'criminal investigation,' sheriff says\",\n",
       " 'Stock futures edge higher after the market wraps its 4th winning month in a row',\n",
       " \"Outages from Change Healthcare cyberattack causing financial 'mess' for doctors\",\n",
       " \"Snowflake's Slootman not worried about employee exodus: 'This is not a personal cult'\",\n",
       " \"High-tech red light therapy is trending on TikTok: Here's what to know\",\n",
       " 'Harvard Business School grad accused of swindling alums out of $2.9 million',\n",
       " \"Christie's just sold a Rothko painting for $100 million in a secret sale\"]"
      ]
     },
     "execution_count": 740,
     "metadata": {},
     "output_type": "execute_result"
    }
   ],
   "source": [
    "heading"
   ]
  },
  {
   "cell_type": "code",
   "execution_count": 741,
   "id": "80a3a559",
   "metadata": {},
   "outputs": [
    {
     "data": {
      "text/plain": [
       "30"
      ]
     },
     "execution_count": 741,
     "metadata": {},
     "output_type": "execute_result"
    }
   ],
   "source": [
    "len(heading)"
   ]
  },
  {
   "cell_type": "code",
   "execution_count": 742,
   "id": "5432b909",
   "metadata": {},
   "outputs": [],
   "source": [
    "time = []\n",
    "for i in soup1.find_all('time',class_=\"LatestNews-timestamp\"):\n",
    "    time.append(i.text)"
   ]
  },
  {
   "cell_type": "code",
   "execution_count": 743,
   "id": "2daddbd8",
   "metadata": {},
   "outputs": [
    {
     "data": {
      "text/plain": [
       "['5 Min Ago',\n",
       " '15 Min Ago',\n",
       " '1 Hour Ago',\n",
       " '2 Hours Ago',\n",
       " '2 Hours Ago',\n",
       " '2 Hours Ago',\n",
       " '4 Hours Ago',\n",
       " '4 Hours Ago',\n",
       " '4 Hours Ago',\n",
       " '4 Hours Ago',\n",
       " '5 Hours Ago',\n",
       " '7 Hours Ago',\n",
       " '7 Hours Ago',\n",
       " '8 Hours Ago',\n",
       " '8 Hours Ago',\n",
       " '8 Hours Ago',\n",
       " '8 Hours Ago',\n",
       " '8 Hours Ago',\n",
       " '8 Hours Ago',\n",
       " '8 Hours Ago',\n",
       " '8 Hours Ago',\n",
       " '8 Hours Ago',\n",
       " '8 Hours Ago',\n",
       " '9 Hours Ago',\n",
       " '9 Hours Ago',\n",
       " '10 Hours Ago',\n",
       " '10 Hours Ago',\n",
       " '10 Hours Ago',\n",
       " '10 Hours Ago',\n",
       " '10 Hours Ago']"
      ]
     },
     "execution_count": 743,
     "metadata": {},
     "output_type": "execute_result"
    }
   ],
   "source": [
    "time"
   ]
  },
  {
   "cell_type": "code",
   "execution_count": 744,
   "id": "990f4e4d",
   "metadata": {},
   "outputs": [
    {
     "data": {
      "text/plain": [
       "30"
      ]
     },
     "execution_count": 744,
     "metadata": {},
     "output_type": "execute_result"
    }
   ],
   "source": [
    "len(time)"
   ]
  },
  {
   "cell_type": "code",
   "execution_count": 747,
   "id": "0bf0628e",
   "metadata": {},
   "outputs": [],
   "source": [
    "link = []\n",
    "for i in soup1.find_all('a',class_=\"LatestNews-headline\"):\n",
    "    link.append(i['href'])"
   ]
  },
  {
   "cell_type": "code",
   "execution_count": 748,
   "id": "3f4871e6",
   "metadata": {},
   "outputs": [
    {
     "data": {
      "text/plain": [
       "['https://www.cnbc.com/2024/03/01/europe-markets-open-to-close-us-euro-zone-inflation-data-in-focus.html',\n",
       " 'https://www.cnbc.com/2024/03/01/cnbc-daily-open-wall-street-unfazed-by-hot-inflation-data.html',\n",
       " 'https://www.cnbc.com/2024/03/01/india-easily-fastest-growing-economy-imf-director-says-as-gdp-growth-soars.html',\n",
       " 'https://www.cnbc.com/2024/03/01/ukraines-losses-on-the-battlefield-raise-more-war-risks-for-russia.html',\n",
       " 'https://www.cnbc.com/2024/03/01/europe-is-having-its-worst-earnings-season-since-the-onset-of-covid.html',\n",
       " 'https://www.cnbc.com/2024/03/01/uk-europe-real-estate-to-surge-as-buyers-eye-investment-opportunities.html',\n",
       " 'https://www.cnbc.com/2024/03/01/india-boosts-chip-ambitions-okays-plants-with-15-billion-in-investments.html',\n",
       " 'https://www.cnbc.com/2024/03/01/china-calls-on-foreign-businesses-to-share-their-problems-as-investment-slumps.html',\n",
       " 'https://www.cnbc.com/2024/03/01/latest-tech-gadgets-smart-rings-robot-dogs-bendable-phones.html',\n",
       " 'https://www.cnbc.com/2024/03/01/facebook-is-getting-rid-of-the-news-tab-in-the-us-and-australia.html',\n",
       " 'https://www.cnbc.com/2024/03/01/japans-factory-activity-contracts-most-in-over-three-years.html',\n",
       " 'https://www.cnbc.com/2024/03/01/cnbc-daily-open-hot-inflation-data-but-could-have-been-worse.html',\n",
       " 'https://www.cnbc.com/2024/02/29/jim-cramer-explains-why-the-market-rallied-on-thursday.html',\n",
       " 'https://www.cnbc.com/2024/02/29/tesla-to-earn-billions-from-charging-partnerships-with-ford-others.html',\n",
       " 'https://www.cnbc.com/2024/02/29/psychologist-the-no-1-gentle-parenting-mistake-and-how-to-avoid-it.html',\n",
       " 'https://www.cnbc.com/2024/02/29/vacasa-top-us-places-buy-winter-vacation-home.html',\n",
       " 'https://www.cnbc.com/2024/02/29/ceo-says-hormel-foods-is-well-positioned-as-weight-loss-drugs-get-big.html',\n",
       " 'https://www.cnbc.com/2024/02/29/cramers-lightning-round-signet-jewelers-is-a-winner.html',\n",
       " 'https://www.cnbc.com/2024/03/01/asia-markets-.html',\n",
       " 'https://www.cnbc.com/2024/03/01/the-rise-and-fall-of-byjus-once-a-startup-darling-in-india.html',\n",
       " 'https://www.cnbc.com/2024/03/01/veteran-advisor-sees-signs-of-a-market-bubble-but-not-of-it-bursting.html',\n",
       " 'https://www.cnbc.com/2024/03/01/investors-should-move-out-of-cash-and-into-fixed-income-strategist.html',\n",
       " 'https://www.cnbc.com/2024/03/01/magnificent-7-alternative-stocks-citi-names-super-7-cheaper-global-shares.html',\n",
       " 'https://www.cnbc.com/2024/02/29/angela-chao-death-being-investigated-as-criminal-matter.html',\n",
       " 'https://www.cnbc.com/2024/02/29/stock-market-today-live-updates.html',\n",
       " 'https://www.cnbc.com/2024/02/29/change-healthcare-cyberattack-has-caused-financial-mess-for-doctors.html',\n",
       " 'https://www.cnbc.com/2024/02/29/snowflakes-slootman-not-worried-about-exodus-not-a-personal-cult.html',\n",
       " 'https://www.cnbc.com/2024/02/29/red-light-therapy-is-trending-on-tiktok-heres-what-to-know.html',\n",
       " 'https://www.cnbc.com/2024/02/29/harvard-business-school-grad-allegedly-swindled-alums-with-ponzi-scheme.html',\n",
       " 'https://www.cnbc.com/2024/02/29/christies-sells-rothko-painting-for-100-million-in-a-secret-sale.html']"
      ]
     },
     "execution_count": 748,
     "metadata": {},
     "output_type": "execute_result"
    }
   ],
   "source": [
    "link"
   ]
  },
  {
   "cell_type": "code",
   "execution_count": 749,
   "id": "baa0f484",
   "metadata": {},
   "outputs": [
    {
     "data": {
      "text/plain": [
       "30"
      ]
     },
     "execution_count": 749,
     "metadata": {},
     "output_type": "execute_result"
    }
   ],
   "source": [
    "len(link)"
   ]
  },
  {
   "cell_type": "code",
   "execution_count": 752,
   "id": "5c305a88",
   "metadata": {},
   "outputs": [],
   "source": [
    "import pandas as pd"
   ]
  },
  {
   "cell_type": "code",
   "execution_count": 756,
   "id": "85a4b0e3",
   "metadata": {},
   "outputs": [],
   "source": [
    "df = pd.DataFrame({'heading': heading,'time': time,'link': link})"
   ]
  },
  {
   "cell_type": "code",
   "execution_count": 757,
   "id": "d13f0542",
   "metadata": {
    "scrolled": true
   },
   "outputs": [
    {
     "data": {
      "text/html": [
       "<div>\n",
       "<style scoped>\n",
       "    .dataframe tbody tr th:only-of-type {\n",
       "        vertical-align: middle;\n",
       "    }\n",
       "\n",
       "    .dataframe tbody tr th {\n",
       "        vertical-align: top;\n",
       "    }\n",
       "\n",
       "    .dataframe thead th {\n",
       "        text-align: right;\n",
       "    }\n",
       "</style>\n",
       "<table border=\"1\" class=\"dataframe\">\n",
       "  <thead>\n",
       "    <tr style=\"text-align: right;\">\n",
       "      <th></th>\n",
       "      <th>heading</th>\n",
       "      <th>time</th>\n",
       "      <th>link</th>\n",
       "    </tr>\n",
       "  </thead>\n",
       "  <tbody>\n",
       "    <tr>\n",
       "      <th>0</th>\n",
       "      <td>European markets set for gains ahead of euro z...</td>\n",
       "      <td>5 Min Ago</td>\n",
       "      <td>https://www.cnbc.com/2024/03/01/europe-markets...</td>\n",
       "    </tr>\n",
       "    <tr>\n",
       "      <th>1</th>\n",
       "      <td>CNBC Daily Open: Wall Street unfazed by hot in...</td>\n",
       "      <td>15 Min Ago</td>\n",
       "      <td>https://www.cnbc.com/2024/03/01/cnbc-daily-ope...</td>\n",
       "    </tr>\n",
       "    <tr>\n",
       "      <th>2</th>\n",
       "      <td>India 'easily' the fastest growing economy, IM...</td>\n",
       "      <td>1 Hour Ago</td>\n",
       "      <td>https://www.cnbc.com/2024/03/01/india-easily-f...</td>\n",
       "    </tr>\n",
       "    <tr>\n",
       "      <th>3</th>\n",
       "      <td>Ukraine's losses on the battlefield could make...</td>\n",
       "      <td>2 Hours Ago</td>\n",
       "      <td>https://www.cnbc.com/2024/03/01/ukraines-losse...</td>\n",
       "    </tr>\n",
       "    <tr>\n",
       "      <th>4</th>\n",
       "      <td>Europe is having its worst earnings season in ...</td>\n",
       "      <td>2 Hours Ago</td>\n",
       "      <td>https://www.cnbc.com/2024/03/01/europe-is-havi...</td>\n",
       "    </tr>\n",
       "    <tr>\n",
       "      <th>5</th>\n",
       "      <td>UK to lead European real estate boom as buyers...</td>\n",
       "      <td>2 Hours Ago</td>\n",
       "      <td>https://www.cnbc.com/2024/03/01/uk-europe-real...</td>\n",
       "    </tr>\n",
       "    <tr>\n",
       "      <th>6</th>\n",
       "      <td>India approves three chip plants with over $15...</td>\n",
       "      <td>4 Hours Ago</td>\n",
       "      <td>https://www.cnbc.com/2024/03/01/india-boosts-c...</td>\n",
       "    </tr>\n",
       "    <tr>\n",
       "      <th>7</th>\n",
       "      <td>China calls on foreign businesses to share the...</td>\n",
       "      <td>4 Hours Ago</td>\n",
       "      <td>https://www.cnbc.com/2024/03/01/china-calls-on...</td>\n",
       "    </tr>\n",
       "    <tr>\n",
       "      <th>8</th>\n",
       "      <td>What tech giants are betting on — from robot d...</td>\n",
       "      <td>4 Hours Ago</td>\n",
       "      <td>https://www.cnbc.com/2024/03/01/latest-tech-ga...</td>\n",
       "    </tr>\n",
       "    <tr>\n",
       "      <th>9</th>\n",
       "      <td>Facebook is getting rid of the News tab in the...</td>\n",
       "      <td>4 Hours Ago</td>\n",
       "      <td>https://www.cnbc.com/2024/03/01/facebook-is-ge...</td>\n",
       "    </tr>\n",
       "    <tr>\n",
       "      <th>10</th>\n",
       "      <td>Japan's factory activity contracts most in ove...</td>\n",
       "      <td>5 Hours Ago</td>\n",
       "      <td>https://www.cnbc.com/2024/03/01/japans-factory...</td>\n",
       "    </tr>\n",
       "    <tr>\n",
       "      <th>11</th>\n",
       "      <td>CNBC Daily Open: Hot inflation data but could ...</td>\n",
       "      <td>7 Hours Ago</td>\n",
       "      <td>https://www.cnbc.com/2024/03/01/cnbc-daily-ope...</td>\n",
       "    </tr>\n",
       "    <tr>\n",
       "      <th>12</th>\n",
       "      <td>Jim Cramer explains why the market rallied on ...</td>\n",
       "      <td>7 Hours Ago</td>\n",
       "      <td>https://www.cnbc.com/2024/02/29/jim-cramer-exp...</td>\n",
       "    </tr>\n",
       "    <tr>\n",
       "      <th>13</th>\n",
       "      <td>Tesla stands to earn billions by opening U.S. ...</td>\n",
       "      <td>8 Hours Ago</td>\n",
       "      <td>https://www.cnbc.com/2024/02/29/tesla-to-earn-...</td>\n",
       "    </tr>\n",
       "    <tr>\n",
       "      <th>14</th>\n",
       "      <td>Psychologist: The No. 1 'gentle parenting' mis...</td>\n",
       "      <td>8 Hours Ago</td>\n",
       "      <td>https://www.cnbc.com/2024/02/29/psychologist-t...</td>\n",
       "    </tr>\n",
       "    <tr>\n",
       "      <th>15</th>\n",
       "      <td>10 best places to buy a winter vacation home b...</td>\n",
       "      <td>8 Hours Ago</td>\n",
       "      <td>https://www.cnbc.com/2024/02/29/vacasa-top-us-...</td>\n",
       "    </tr>\n",
       "    <tr>\n",
       "      <th>16</th>\n",
       "      <td>CEO says Hormel Foods is well-positioned as we...</td>\n",
       "      <td>8 Hours Ago</td>\n",
       "      <td>https://www.cnbc.com/2024/02/29/ceo-says-horme...</td>\n",
       "    </tr>\n",
       "    <tr>\n",
       "      <th>17</th>\n",
       "      <td>Cramer's Lightning Round: Signet Jewelers is a...</td>\n",
       "      <td>8 Hours Ago</td>\n",
       "      <td>https://www.cnbc.com/2024/02/29/cramers-lightn...</td>\n",
       "    </tr>\n",
       "    <tr>\n",
       "      <th>18</th>\n",
       "      <td>Japan's Nikkei 225 closes shy of 40,000 record...</td>\n",
       "      <td>8 Hours Ago</td>\n",
       "      <td>https://www.cnbc.com/2024/03/01/asia-markets-....</td>\n",
       "    </tr>\n",
       "    <tr>\n",
       "      <th>19</th>\n",
       "      <td>India’s Byju’s lost more than $20 billion in v...</td>\n",
       "      <td>8 Hours Ago</td>\n",
       "      <td>https://www.cnbc.com/2024/03/01/the-rise-and-f...</td>\n",
       "    </tr>\n",
       "    <tr>\n",
       "      <th>20</th>\n",
       "      <td>Veteran advisor sees signs of an AI-fueled mar...</td>\n",
       "      <td>8 Hours Ago</td>\n",
       "      <td>https://www.cnbc.com/2024/03/01/veteran-adviso...</td>\n",
       "    </tr>\n",
       "    <tr>\n",
       "      <th>21</th>\n",
       "      <td>Forget cash — it's time to move into fixed inc...</td>\n",
       "      <td>8 Hours Ago</td>\n",
       "      <td>https://www.cnbc.com/2024/03/01/investors-shou...</td>\n",
       "    </tr>\n",
       "    <tr>\n",
       "      <th>22</th>\n",
       "      <td>Citi names 'Super 7' global stocks similar to ...</td>\n",
       "      <td>8 Hours Ago</td>\n",
       "      <td>https://www.cnbc.com/2024/03/01/magnificent-7-...</td>\n",
       "    </tr>\n",
       "    <tr>\n",
       "      <th>23</th>\n",
       "      <td>Death of Foremost CEO Angela Chao under 'crimi...</td>\n",
       "      <td>9 Hours Ago</td>\n",
       "      <td>https://www.cnbc.com/2024/02/29/angela-chao-de...</td>\n",
       "    </tr>\n",
       "    <tr>\n",
       "      <th>24</th>\n",
       "      <td>Stock futures edge higher after the market wra...</td>\n",
       "      <td>9 Hours Ago</td>\n",
       "      <td>https://www.cnbc.com/2024/02/29/stock-market-t...</td>\n",
       "    </tr>\n",
       "    <tr>\n",
       "      <th>25</th>\n",
       "      <td>Outages from Change Healthcare cyberattack cau...</td>\n",
       "      <td>10 Hours Ago</td>\n",
       "      <td>https://www.cnbc.com/2024/02/29/change-healthc...</td>\n",
       "    </tr>\n",
       "    <tr>\n",
       "      <th>26</th>\n",
       "      <td>Snowflake's Slootman not worried about employe...</td>\n",
       "      <td>10 Hours Ago</td>\n",
       "      <td>https://www.cnbc.com/2024/02/29/snowflakes-slo...</td>\n",
       "    </tr>\n",
       "    <tr>\n",
       "      <th>27</th>\n",
       "      <td>High-tech red light therapy is trending on Tik...</td>\n",
       "      <td>10 Hours Ago</td>\n",
       "      <td>https://www.cnbc.com/2024/02/29/red-light-ther...</td>\n",
       "    </tr>\n",
       "    <tr>\n",
       "      <th>28</th>\n",
       "      <td>Harvard Business School grad accused of swindl...</td>\n",
       "      <td>10 Hours Ago</td>\n",
       "      <td>https://www.cnbc.com/2024/02/29/harvard-busine...</td>\n",
       "    </tr>\n",
       "    <tr>\n",
       "      <th>29</th>\n",
       "      <td>Christie's just sold a Rothko painting for $10...</td>\n",
       "      <td>10 Hours Ago</td>\n",
       "      <td>https://www.cnbc.com/2024/02/29/christies-sell...</td>\n",
       "    </tr>\n",
       "  </tbody>\n",
       "</table>\n",
       "</div>"
      ],
      "text/plain": [
       "                                              heading          time  \\\n",
       "0   European markets set for gains ahead of euro z...     5 Min Ago   \n",
       "1   CNBC Daily Open: Wall Street unfazed by hot in...    15 Min Ago   \n",
       "2   India 'easily' the fastest growing economy, IM...    1 Hour Ago   \n",
       "3   Ukraine's losses on the battlefield could make...   2 Hours Ago   \n",
       "4   Europe is having its worst earnings season in ...   2 Hours Ago   \n",
       "5   UK to lead European real estate boom as buyers...   2 Hours Ago   \n",
       "6   India approves three chip plants with over $15...   4 Hours Ago   \n",
       "7   China calls on foreign businesses to share the...   4 Hours Ago   \n",
       "8   What tech giants are betting on — from robot d...   4 Hours Ago   \n",
       "9   Facebook is getting rid of the News tab in the...   4 Hours Ago   \n",
       "10  Japan's factory activity contracts most in ove...   5 Hours Ago   \n",
       "11  CNBC Daily Open: Hot inflation data but could ...   7 Hours Ago   \n",
       "12  Jim Cramer explains why the market rallied on ...   7 Hours Ago   \n",
       "13  Tesla stands to earn billions by opening U.S. ...   8 Hours Ago   \n",
       "14  Psychologist: The No. 1 'gentle parenting' mis...   8 Hours Ago   \n",
       "15  10 best places to buy a winter vacation home b...   8 Hours Ago   \n",
       "16  CEO says Hormel Foods is well-positioned as we...   8 Hours Ago   \n",
       "17  Cramer's Lightning Round: Signet Jewelers is a...   8 Hours Ago   \n",
       "18  Japan's Nikkei 225 closes shy of 40,000 record...   8 Hours Ago   \n",
       "19  India’s Byju’s lost more than $20 billion in v...   8 Hours Ago   \n",
       "20  Veteran advisor sees signs of an AI-fueled mar...   8 Hours Ago   \n",
       "21  Forget cash — it's time to move into fixed inc...   8 Hours Ago   \n",
       "22  Citi names 'Super 7' global stocks similar to ...   8 Hours Ago   \n",
       "23  Death of Foremost CEO Angela Chao under 'crimi...   9 Hours Ago   \n",
       "24  Stock futures edge higher after the market wra...   9 Hours Ago   \n",
       "25  Outages from Change Healthcare cyberattack cau...  10 Hours Ago   \n",
       "26  Snowflake's Slootman not worried about employe...  10 Hours Ago   \n",
       "27  High-tech red light therapy is trending on Tik...  10 Hours Ago   \n",
       "28  Harvard Business School grad accused of swindl...  10 Hours Ago   \n",
       "29  Christie's just sold a Rothko painting for $10...  10 Hours Ago   \n",
       "\n",
       "                                                 link  \n",
       "0   https://www.cnbc.com/2024/03/01/europe-markets...  \n",
       "1   https://www.cnbc.com/2024/03/01/cnbc-daily-ope...  \n",
       "2   https://www.cnbc.com/2024/03/01/india-easily-f...  \n",
       "3   https://www.cnbc.com/2024/03/01/ukraines-losse...  \n",
       "4   https://www.cnbc.com/2024/03/01/europe-is-havi...  \n",
       "5   https://www.cnbc.com/2024/03/01/uk-europe-real...  \n",
       "6   https://www.cnbc.com/2024/03/01/india-boosts-c...  \n",
       "7   https://www.cnbc.com/2024/03/01/china-calls-on...  \n",
       "8   https://www.cnbc.com/2024/03/01/latest-tech-ga...  \n",
       "9   https://www.cnbc.com/2024/03/01/facebook-is-ge...  \n",
       "10  https://www.cnbc.com/2024/03/01/japans-factory...  \n",
       "11  https://www.cnbc.com/2024/03/01/cnbc-daily-ope...  \n",
       "12  https://www.cnbc.com/2024/02/29/jim-cramer-exp...  \n",
       "13  https://www.cnbc.com/2024/02/29/tesla-to-earn-...  \n",
       "14  https://www.cnbc.com/2024/02/29/psychologist-t...  \n",
       "15  https://www.cnbc.com/2024/02/29/vacasa-top-us-...  \n",
       "16  https://www.cnbc.com/2024/02/29/ceo-says-horme...  \n",
       "17  https://www.cnbc.com/2024/02/29/cramers-lightn...  \n",
       "18  https://www.cnbc.com/2024/03/01/asia-markets-....  \n",
       "19  https://www.cnbc.com/2024/03/01/the-rise-and-f...  \n",
       "20  https://www.cnbc.com/2024/03/01/veteran-adviso...  \n",
       "21  https://www.cnbc.com/2024/03/01/investors-shou...  \n",
       "22  https://www.cnbc.com/2024/03/01/magnificent-7-...  \n",
       "23  https://www.cnbc.com/2024/02/29/angela-chao-de...  \n",
       "24  https://www.cnbc.com/2024/02/29/stock-market-t...  \n",
       "25  https://www.cnbc.com/2024/02/29/change-healthc...  \n",
       "26  https://www.cnbc.com/2024/02/29/snowflakes-slo...  \n",
       "27  https://www.cnbc.com/2024/02/29/red-light-ther...  \n",
       "28  https://www.cnbc.com/2024/02/29/harvard-busine...  \n",
       "29  https://www.cnbc.com/2024/02/29/christies-sell...  "
      ]
     },
     "execution_count": 757,
     "metadata": {},
     "output_type": "execute_result"
    }
   ],
   "source": [
    "df"
   ]
  },
  {
   "cell_type": "code",
   "execution_count": null,
   "id": "d50bd97f",
   "metadata": {},
   "outputs": [],
   "source": []
  },
  {
   "cell_type": "markdown",
   "id": "67b9ac45",
   "metadata": {},
   "source": [
    "## Q3-Please visit https://www.keaipublishing.com/en/journals/artificial-intelligence-in-agriculture/most-downloaded-articles/ and scrap-\n",
    "\n",
    "a) Paper title\n",
    "\n",
    "b) date\n",
    "\n",
    "c) Author"
   ]
  },
  {
   "cell_type": "code",
   "execution_count": 758,
   "id": "eb854b36",
   "metadata": {},
   "outputs": [],
   "source": [
    "page = requests.get('https://www.keaipublishing.com/en/journals/artificial-intelligence-in-agriculture/most-downloaded-articles/')"
   ]
  },
  {
   "cell_type": "code",
   "execution_count": 759,
   "id": "ebba631d",
   "metadata": {},
   "outputs": [
    {
     "data": {
      "text/plain": [
       "<Response [200]>"
      ]
     },
     "execution_count": 759,
     "metadata": {},
     "output_type": "execute_result"
    }
   ],
   "source": [
    "page"
   ]
  },
  {
   "cell_type": "code",
   "execution_count": 760,
   "id": "01c8b130",
   "metadata": {},
   "outputs": [],
   "source": [
    "soup2 = BeautifulSoup(page.content)"
   ]
  },
  {
   "cell_type": "code",
   "execution_count": 763,
   "id": "50f15bc0",
   "metadata": {},
   "outputs": [],
   "source": [
    "title = []\n",
    "for j in soup2.find_all('h2',class_=\"h5 article-title\"):\n",
    "    title.append(j.text.strip())"
   ]
  },
  {
   "cell_type": "code",
   "execution_count": 764,
   "id": "5a7b00f6",
   "metadata": {},
   "outputs": [
    {
     "data": {
      "text/plain": [
       "['Implementation of artificial intelligence in agriculture for optimisation of irrigation and application of pesticides and herbicides',\n",
       " 'Review of agricultural IoT technology',\n",
       " 'A comprehensive review on automation in agriculture using artificial intelligence',\n",
       " 'Automation and digitization of agriculture using artificial intelligence and internet of things',\n",
       " 'Applications of electronic nose (e-nose) and electronic tongue (e-tongue) in food quality-related properties determination: A review',\n",
       " 'Fruit ripeness classification: A survey',\n",
       " 'A review of imaging techniques for plant disease detection',\n",
       " 'Deep learning based computer vision approaches for smart agricultural applications',\n",
       " 'Comparison of CNN-based deep learning architectures for rice diseases classification',\n",
       " 'Transfer Learning for Multi-Crop Leaf Disease Image Classification using Convolutional Neural Network VGG',\n",
       " 'Plant disease detection using hybrid model based on convolutional autoencoder and convolutional neural network',\n",
       " 'Machine learning in nutrient management: A review',\n",
       " 'DeepRice: A deep learning and deep feature based classification of Rice leaf disease subtypes',\n",
       " 'How artificial intelligence uses to achieve the agriculture sustainability: Systematic review',\n",
       " 'Machine learning for weed–plant discrimination in agriculture 5.0: An in-depth review',\n",
       " 'Examining the interplay between artificial intelligence and the agri-food industry',\n",
       " 'Deep convolutional neural network models for weed detection in polyhouse grown bell peppers',\n",
       " 'A systematic review of machine learning techniques for cattle identification: Datasets, methods and future directions',\n",
       " 'A review on computer vision systems in monitoring of poultry: A welfare perspective',\n",
       " 'Crop diagnostic system: A robust disease detection and management system for leafy green crops grown in an aquaponics facility',\n",
       " 'Artificial cognition for applications in smart agriculture: A comprehensive review',\n",
       " 'Explainable artificial intelligence and interpretable machine learning for agricultural data analysis',\n",
       " 'Blockchain: A new safeguard for agri-foods',\n",
       " 'Study on body temperature detection of pig based on infrared technology: A review',\n",
       " 'Vision Intelligence for Smart Sheep Farming: Applying Ensemble Learning to Detect Sheep Breeds']"
      ]
     },
     "execution_count": 764,
     "metadata": {},
     "output_type": "execute_result"
    }
   ],
   "source": [
    "title"
   ]
  },
  {
   "cell_type": "code",
   "execution_count": 765,
   "id": "81d7363e",
   "metadata": {},
   "outputs": [
    {
     "data": {
      "text/plain": [
       "25"
      ]
     },
     "execution_count": 765,
     "metadata": {},
     "output_type": "execute_result"
    }
   ],
   "source": [
    "len(title)"
   ]
  },
  {
   "cell_type": "code",
   "execution_count": 766,
   "id": "f6bc2a03",
   "metadata": {},
   "outputs": [],
   "source": [
    "Date = []\n",
    "for j in soup2.find_all('p',class_=\"article-date\"):\n",
    "    Date.append(j.text.strip())"
   ]
  },
  {
   "cell_type": "code",
   "execution_count": 767,
   "id": "6278a930",
   "metadata": {},
   "outputs": [
    {
     "data": {
      "text/plain": [
       "['2020',\n",
       " '2022',\n",
       " 'June 2019',\n",
       " '2021',\n",
       " '2020',\n",
       " 'March 2023',\n",
       " '2020',\n",
       " '2022',\n",
       " 'September 2023',\n",
       " '2022',\n",
       " '2021',\n",
       " 'September 2023',\n",
       " 'March 2024',\n",
       " 'June 2023',\n",
       " 'December 2023',\n",
       " '2022',\n",
       " '2022',\n",
       " '2022',\n",
       " '2020',\n",
       " 'December 2023',\n",
       " '2020',\n",
       " '2022',\n",
       " '2020',\n",
       " 'March 2019',\n",
       " 'March 2024']"
      ]
     },
     "execution_count": 767,
     "metadata": {},
     "output_type": "execute_result"
    }
   ],
   "source": [
    "Date"
   ]
  },
  {
   "cell_type": "code",
   "execution_count": 768,
   "id": "188eb86a",
   "metadata": {},
   "outputs": [
    {
     "data": {
      "text/plain": [
       "25"
      ]
     },
     "execution_count": 768,
     "metadata": {},
     "output_type": "execute_result"
    }
   ],
   "source": [
    "len(Date)"
   ]
  },
  {
   "cell_type": "code",
   "execution_count": 769,
   "id": "e5054819",
   "metadata": {},
   "outputs": [],
   "source": [
    "Author = []\n",
    "for j in soup2.find_all('p',class_=\"article-authors\"):\n",
    "    Author.append(j.text)"
   ]
  },
  {
   "cell_type": "code",
   "execution_count": 770,
   "id": "a368d97c",
   "metadata": {},
   "outputs": [
    {
     "data": {
      "text/plain": [
       "[' Tanha Talaviya |  Dhara Shah |  Nivedita Patel |  Hiteshri Yagnik |  Manan Shah',\n",
       " ' Jinyuan Xu |  Baoxing Gu |  Guangzhao Tian',\n",
       " ' Kirtan Jha |  Aalap Doshi |  Poojan Patel |  Manan Shah',\n",
       " ' A. Subeesh |  C.R. Mehta',\n",
       " ' Juzhong Tan |  Jie Xu',\n",
       " ' Matteo Rizzo |  Matteo Marcuzzo |  Alessandro Zangari |  Andrea Gasparetto |  Andrea Albarelli',\n",
       " ' Vijai Singh |  Namita Sharma |  Shikha Singh',\n",
       " ' V.G. Dhanya |  A. Subeesh |  N.L. Kushwaha |  Dinesh Kumar Vishwakarma |  T. Nagesh Kumar |  G. Ritika |  A.N. Singh',\n",
       " ' Md Taimur Ahad |  Yan Li |  Bo Song |  Touhid Bhuiyan',\n",
       " ' Ananda S. Paymode |  Vandana B. Malode',\n",
       " ' Punam Bedi |  Pushkar Gole',\n",
       " ' Oumnia Ennaji |  Leonardus Vergütz |  Achraf El Allali',\n",
       " ' P. Isaac Ritharson |  Kumudha Raimond |  X. Anitha Mary |  Jennifer Eunice Robert |  Andrew J',\n",
       " ' Vilani Sachithra |  L.D.C.S. Subhashini',\n",
       " ' Filbert H. Juwono |  W.K. Wong |  Seema Verma |  Neha Shekhawat |  Basil Andy Lease |  Catur Apriono',\n",
       " ' Abderahman Rejeb |  Karim Rejeb |  Suhaiza Zailani |  John G. Keogh |  Andrea Appolloni',\n",
       " ' A. Subeesh |  S. Bhole |  K. Singh |  N.S. Chandel |  Y.A. Rajwade |  K.V.R. Rao |  S.P. Kumar |  D. Jat',\n",
       " ' Md Ekramul Hossain |  Muhammad Ashad Kabir |  Lihong Zheng |  Dave L. Swain |  Shawn McGrath |  Jonathan Medway',\n",
       " ' Cedric Okinda |  Innocent Nyalala |  Tchalla Korohou |  Celestine Okinda |  Jintao Wang |  Tracy Achieng |  Patrick Wamalwa |  Tai Mang |  Mingxia Shen',\n",
       " ' R. Abbasi |  P. Martinez |  R. Ahmad',\n",
       " ' Misbah Pathan |  Nivedita Patel |  Hiteshri Yagnik |  Manan Shah',\n",
       " ' Masahiro Ryo',\n",
       " ' Jie Xu |  Shuang Guo |  David Xie |  Yaxuan Yan',\n",
       " ' Zaiqin Zhang |  Hang Zhang |  Tonghai Liu',\n",
       " ' Galib Muhammad Shahriar Himel |  Md. Masudul Islam |  Mijanur Rahaman']"
      ]
     },
     "execution_count": 770,
     "metadata": {},
     "output_type": "execute_result"
    }
   ],
   "source": [
    "Author"
   ]
  },
  {
   "cell_type": "code",
   "execution_count": 771,
   "id": "8dbd752a",
   "metadata": {},
   "outputs": [
    {
     "data": {
      "text/plain": [
       "25"
      ]
     },
     "execution_count": 771,
     "metadata": {},
     "output_type": "execute_result"
    }
   ],
   "source": [
    "len(Author)"
   ]
  },
  {
   "cell_type": "code",
   "execution_count": 772,
   "id": "f8284139",
   "metadata": {},
   "outputs": [],
   "source": [
    "df2 = pd.DataFrame({'title':title,'Date':Date,'Author':Author}) "
   ]
  },
  {
   "cell_type": "code",
   "execution_count": 773,
   "id": "2f1354e9",
   "metadata": {
    "scrolled": true
   },
   "outputs": [
    {
     "data": {
      "text/html": [
       "<div>\n",
       "<style scoped>\n",
       "    .dataframe tbody tr th:only-of-type {\n",
       "        vertical-align: middle;\n",
       "    }\n",
       "\n",
       "    .dataframe tbody tr th {\n",
       "        vertical-align: top;\n",
       "    }\n",
       "\n",
       "    .dataframe thead th {\n",
       "        text-align: right;\n",
       "    }\n",
       "</style>\n",
       "<table border=\"1\" class=\"dataframe\">\n",
       "  <thead>\n",
       "    <tr style=\"text-align: right;\">\n",
       "      <th></th>\n",
       "      <th>title</th>\n",
       "      <th>Date</th>\n",
       "      <th>Author</th>\n",
       "    </tr>\n",
       "  </thead>\n",
       "  <tbody>\n",
       "    <tr>\n",
       "      <th>0</th>\n",
       "      <td>Implementation of artificial intelligence in a...</td>\n",
       "      <td>2020</td>\n",
       "      <td>Tanha Talaviya |  Dhara Shah |  Nivedita Pate...</td>\n",
       "    </tr>\n",
       "    <tr>\n",
       "      <th>1</th>\n",
       "      <td>Review of agricultural IoT technology</td>\n",
       "      <td>2022</td>\n",
       "      <td>Jinyuan Xu |  Baoxing Gu |  Guangzhao Tian</td>\n",
       "    </tr>\n",
       "    <tr>\n",
       "      <th>2</th>\n",
       "      <td>A comprehensive review on automation in agricu...</td>\n",
       "      <td>June 2019</td>\n",
       "      <td>Kirtan Jha |  Aalap Doshi |  Poojan Patel |  ...</td>\n",
       "    </tr>\n",
       "    <tr>\n",
       "      <th>3</th>\n",
       "      <td>Automation and digitization of agriculture usi...</td>\n",
       "      <td>2021</td>\n",
       "      <td>A. Subeesh |  C.R. Mehta</td>\n",
       "    </tr>\n",
       "    <tr>\n",
       "      <th>4</th>\n",
       "      <td>Applications of electronic nose (e-nose) and e...</td>\n",
       "      <td>2020</td>\n",
       "      <td>Juzhong Tan |  Jie Xu</td>\n",
       "    </tr>\n",
       "    <tr>\n",
       "      <th>5</th>\n",
       "      <td>Fruit ripeness classification: A survey</td>\n",
       "      <td>March 2023</td>\n",
       "      <td>Matteo Rizzo |  Matteo Marcuzzo |  Alessandro...</td>\n",
       "    </tr>\n",
       "    <tr>\n",
       "      <th>6</th>\n",
       "      <td>A review of imaging techniques for plant disea...</td>\n",
       "      <td>2020</td>\n",
       "      <td>Vijai Singh |  Namita Sharma |  Shikha Singh</td>\n",
       "    </tr>\n",
       "    <tr>\n",
       "      <th>7</th>\n",
       "      <td>Deep learning based computer vision approaches...</td>\n",
       "      <td>2022</td>\n",
       "      <td>V.G. Dhanya |  A. Subeesh |  N.L. Kushwaha | ...</td>\n",
       "    </tr>\n",
       "    <tr>\n",
       "      <th>8</th>\n",
       "      <td>Comparison of CNN-based deep learning architec...</td>\n",
       "      <td>September 2023</td>\n",
       "      <td>Md Taimur Ahad |  Yan Li |  Bo Song |  Touhid...</td>\n",
       "    </tr>\n",
       "    <tr>\n",
       "      <th>9</th>\n",
       "      <td>Transfer Learning for Multi-Crop Leaf Disease ...</td>\n",
       "      <td>2022</td>\n",
       "      <td>Ananda S. Paymode |  Vandana B. Malode</td>\n",
       "    </tr>\n",
       "    <tr>\n",
       "      <th>10</th>\n",
       "      <td>Plant disease detection using hybrid model bas...</td>\n",
       "      <td>2021</td>\n",
       "      <td>Punam Bedi |  Pushkar Gole</td>\n",
       "    </tr>\n",
       "    <tr>\n",
       "      <th>11</th>\n",
       "      <td>Machine learning in nutrient management: A review</td>\n",
       "      <td>September 2023</td>\n",
       "      <td>Oumnia Ennaji |  Leonardus Vergütz |  Achraf ...</td>\n",
       "    </tr>\n",
       "    <tr>\n",
       "      <th>12</th>\n",
       "      <td>DeepRice: A deep learning and deep feature bas...</td>\n",
       "      <td>March 2024</td>\n",
       "      <td>P. Isaac Ritharson |  Kumudha Raimond |  X. A...</td>\n",
       "    </tr>\n",
       "    <tr>\n",
       "      <th>13</th>\n",
       "      <td>How artificial intelligence uses to achieve th...</td>\n",
       "      <td>June 2023</td>\n",
       "      <td>Vilani Sachithra |  L.D.C.S. Subhashini</td>\n",
       "    </tr>\n",
       "    <tr>\n",
       "      <th>14</th>\n",
       "      <td>Machine learning for weed–plant discrimination...</td>\n",
       "      <td>December 2023</td>\n",
       "      <td>Filbert H. Juwono |  W.K. Wong |  Seema Verma...</td>\n",
       "    </tr>\n",
       "    <tr>\n",
       "      <th>15</th>\n",
       "      <td>Examining the interplay between artificial int...</td>\n",
       "      <td>2022</td>\n",
       "      <td>Abderahman Rejeb |  Karim Rejeb |  Suhaiza Za...</td>\n",
       "    </tr>\n",
       "    <tr>\n",
       "      <th>16</th>\n",
       "      <td>Deep convolutional neural network models for w...</td>\n",
       "      <td>2022</td>\n",
       "      <td>A. Subeesh |  S. Bhole |  K. Singh |  N.S. Ch...</td>\n",
       "    </tr>\n",
       "    <tr>\n",
       "      <th>17</th>\n",
       "      <td>A systematic review of machine learning techni...</td>\n",
       "      <td>2022</td>\n",
       "      <td>Md Ekramul Hossain |  Muhammad Ashad Kabir | ...</td>\n",
       "    </tr>\n",
       "    <tr>\n",
       "      <th>18</th>\n",
       "      <td>A review on computer vision systems in monitor...</td>\n",
       "      <td>2020</td>\n",
       "      <td>Cedric Okinda |  Innocent Nyalala |  Tchalla ...</td>\n",
       "    </tr>\n",
       "    <tr>\n",
       "      <th>19</th>\n",
       "      <td>Crop diagnostic system: A robust disease detec...</td>\n",
       "      <td>December 2023</td>\n",
       "      <td>R. Abbasi |  P. Martinez |  R. Ahmad</td>\n",
       "    </tr>\n",
       "    <tr>\n",
       "      <th>20</th>\n",
       "      <td>Artificial cognition for applications in smart...</td>\n",
       "      <td>2020</td>\n",
       "      <td>Misbah Pathan |  Nivedita Patel |  Hiteshri Y...</td>\n",
       "    </tr>\n",
       "    <tr>\n",
       "      <th>21</th>\n",
       "      <td>Explainable artificial intelligence and interp...</td>\n",
       "      <td>2022</td>\n",
       "      <td>Masahiro Ryo</td>\n",
       "    </tr>\n",
       "    <tr>\n",
       "      <th>22</th>\n",
       "      <td>Blockchain: A new safeguard for agri-foods</td>\n",
       "      <td>2020</td>\n",
       "      <td>Jie Xu |  Shuang Guo |  David Xie |  Yaxuan Yan</td>\n",
       "    </tr>\n",
       "    <tr>\n",
       "      <th>23</th>\n",
       "      <td>Study on body temperature detection of pig bas...</td>\n",
       "      <td>March 2019</td>\n",
       "      <td>Zaiqin Zhang |  Hang Zhang |  Tonghai Liu</td>\n",
       "    </tr>\n",
       "    <tr>\n",
       "      <th>24</th>\n",
       "      <td>Vision Intelligence for Smart Sheep Farming: A...</td>\n",
       "      <td>March 2024</td>\n",
       "      <td>Galib Muhammad Shahriar Himel |  Md. Masudul ...</td>\n",
       "    </tr>\n",
       "  </tbody>\n",
       "</table>\n",
       "</div>"
      ],
      "text/plain": [
       "                                                title            Date  \\\n",
       "0   Implementation of artificial intelligence in a...            2020   \n",
       "1               Review of agricultural IoT technology            2022   \n",
       "2   A comprehensive review on automation in agricu...       June 2019   \n",
       "3   Automation and digitization of agriculture usi...            2021   \n",
       "4   Applications of electronic nose (e-nose) and e...            2020   \n",
       "5             Fruit ripeness classification: A survey      March 2023   \n",
       "6   A review of imaging techniques for plant disea...            2020   \n",
       "7   Deep learning based computer vision approaches...            2022   \n",
       "8   Comparison of CNN-based deep learning architec...  September 2023   \n",
       "9   Transfer Learning for Multi-Crop Leaf Disease ...            2022   \n",
       "10  Plant disease detection using hybrid model bas...            2021   \n",
       "11  Machine learning in nutrient management: A review  September 2023   \n",
       "12  DeepRice: A deep learning and deep feature bas...      March 2024   \n",
       "13  How artificial intelligence uses to achieve th...       June 2023   \n",
       "14  Machine learning for weed–plant discrimination...   December 2023   \n",
       "15  Examining the interplay between artificial int...            2022   \n",
       "16  Deep convolutional neural network models for w...            2022   \n",
       "17  A systematic review of machine learning techni...            2022   \n",
       "18  A review on computer vision systems in monitor...            2020   \n",
       "19  Crop diagnostic system: A robust disease detec...   December 2023   \n",
       "20  Artificial cognition for applications in smart...            2020   \n",
       "21  Explainable artificial intelligence and interp...            2022   \n",
       "22         Blockchain: A new safeguard for agri-foods            2020   \n",
       "23  Study on body temperature detection of pig bas...      March 2019   \n",
       "24  Vision Intelligence for Smart Sheep Farming: A...      March 2024   \n",
       "\n",
       "                                               Author  \n",
       "0    Tanha Talaviya |  Dhara Shah |  Nivedita Pate...  \n",
       "1          Jinyuan Xu |  Baoxing Gu |  Guangzhao Tian  \n",
       "2    Kirtan Jha |  Aalap Doshi |  Poojan Patel |  ...  \n",
       "3                            A. Subeesh |  C.R. Mehta  \n",
       "4                               Juzhong Tan |  Jie Xu  \n",
       "5    Matteo Rizzo |  Matteo Marcuzzo |  Alessandro...  \n",
       "6        Vijai Singh |  Namita Sharma |  Shikha Singh  \n",
       "7    V.G. Dhanya |  A. Subeesh |  N.L. Kushwaha | ...  \n",
       "8    Md Taimur Ahad |  Yan Li |  Bo Song |  Touhid...  \n",
       "9              Ananda S. Paymode |  Vandana B. Malode  \n",
       "10                         Punam Bedi |  Pushkar Gole  \n",
       "11   Oumnia Ennaji |  Leonardus Vergütz |  Achraf ...  \n",
       "12   P. Isaac Ritharson |  Kumudha Raimond |  X. A...  \n",
       "13            Vilani Sachithra |  L.D.C.S. Subhashini  \n",
       "14   Filbert H. Juwono |  W.K. Wong |  Seema Verma...  \n",
       "15   Abderahman Rejeb |  Karim Rejeb |  Suhaiza Za...  \n",
       "16   A. Subeesh |  S. Bhole |  K. Singh |  N.S. Ch...  \n",
       "17   Md Ekramul Hossain |  Muhammad Ashad Kabir | ...  \n",
       "18   Cedric Okinda |  Innocent Nyalala |  Tchalla ...  \n",
       "19               R. Abbasi |  P. Martinez |  R. Ahmad  \n",
       "20   Misbah Pathan |  Nivedita Patel |  Hiteshri Y...  \n",
       "21                                       Masahiro Ryo  \n",
       "22    Jie Xu |  Shuang Guo |  David Xie |  Yaxuan Yan  \n",
       "23          Zaiqin Zhang |  Hang Zhang |  Tonghai Liu  \n",
       "24   Galib Muhammad Shahriar Himel |  Md. Masudul ...  "
      ]
     },
     "execution_count": 773,
     "metadata": {},
     "output_type": "execute_result"
    }
   ],
   "source": [
    "df2"
   ]
  },
  {
   "cell_type": "markdown",
   "id": "005c8828",
   "metadata": {},
   "source": [
    "## 4) Write a python program to scrape first 10 product details which include product name , price , Image URL from\n",
    "https://www.bewakoof.com/bestseller?sort=popular ."
   ]
  },
  {
   "cell_type": "code",
   "execution_count": 777,
   "id": "3abe395e",
   "metadata": {},
   "outputs": [],
   "source": [
    "page = requests.get('https://www.bewakoof.com/bestseller?sort=popular')\n",
    "page\n",
    "soup = BeautifulSoup(page.content)"
   ]
  },
  {
   "cell_type": "code",
   "execution_count": 778,
   "id": "b9320776",
   "metadata": {},
   "outputs": [],
   "source": [
    "product_name = []\n",
    "for i in soup.find_all('h2',class_='clr-shade4'):\n",
    "    product_name.append(i.text)"
   ]
  },
  {
   "cell_type": "code",
   "execution_count": 779,
   "id": "c593deff",
   "metadata": {},
   "outputs": [
    {
     "data": {
      "text/plain": [
       "[\"Women's Blue Round in Bugs Graphic Printed Oversized Short Top\",\n",
       " \"Women's Black Boyfriend T-shirt\",\n",
       " \"Men's Black T-shirt\",\n",
       " \"Men's Jet Black Vest\",\n",
       " \"Men's Black Batman Outline Logo T-shirt\",\n",
       " \"Men's Black T-Shirts\",\n",
       " \"Men's Black Iron Man of War Graphic Printed Vest\",\n",
       " \"Men's Black Friends Logo T-shirt\",\n",
       " \"Women's Red Boyfriend T-shirt\",\n",
       " \"Men's White T-shirt\"]"
      ]
     },
     "execution_count": 779,
     "metadata": {},
     "output_type": "execute_result"
    }
   ],
   "source": [
    "product_name"
   ]
  },
  {
   "cell_type": "code",
   "execution_count": 780,
   "id": "92b1d87a",
   "metadata": {},
   "outputs": [
    {
     "data": {
      "text/plain": [
       "['₹542',\n",
       " '₹399',\n",
       " '₹499',\n",
       " '₹399',\n",
       " '₹399',\n",
       " '₹499',\n",
       " '₹399',\n",
       " '₹449',\n",
       " '₹399',\n",
       " '₹449']"
      ]
     },
     "execution_count": 780,
     "metadata": {},
     "output_type": "execute_result"
    }
   ],
   "source": [
    "price = []\n",
    "for i in soup.find_all('div',class_=\"discountedPriceText\"):\n",
    "    price.append(i.text)\n",
    "\n",
    "price"
   ]
  },
  {
   "cell_type": "code",
   "execution_count": 781,
   "id": "dbb09dd2",
   "metadata": {},
   "outputs": [
    {
     "data": {
      "text/plain": [
       "['https://images.bewakoof.com/t640/women-s-blue-round-in-bugs-graphic-printed-oversized-short-top-589789-1707221362-1.jpg',\n",
       " 'https://images.bewakoof.com/t640/women-s-black-boyfriend-t-shirt-103943-1655747735-1.jpg',\n",
       " 'https://images.bewakoof.com/t640/men-s-black-t-shirt-106-1701423878-1.jpg',\n",
       " 'https://images.bewakoof.com/t640/jet-black-vest-210687-1659522825-1.jpg',\n",
       " 'https://images.bewakoof.com/t640/men-s-black-batman-outline-logo-t-shirt-283889-1701423873-1.jpg',\n",
       " 'https://images.bewakoof.com/t640/men-s-black-t-shirts-1094-1708612740-1.jpg',\n",
       " 'https://images.bewakoof.com/t640/iron-man-of-war-vest-avl-220651-1655748304-1.jpg',\n",
       " 'https://images.bewakoof.com/t640/men-s-black-friends-logo-t-shirt-234662-1709214838-1.jpg',\n",
       " 'https://images.bewakoof.com/t640/women-s-red-boyfriend-t-shirt-170465-1658918677-1.jpg',\n",
       " 'https://images.bewakoof.com/t640/men-s-white-t-shirt-105-1702967985-1.jpg']"
      ]
     },
     "execution_count": 781,
     "metadata": {},
     "output_type": "execute_result"
    }
   ],
   "source": [
    "image_link = []\n",
    "for i in soup.find_all('img',class_=\"productImgTag\"):\n",
    "    image_link.append(i['src'])\n",
    "    \n",
    "image_link"
   ]
  },
  {
   "cell_type": "code",
   "execution_count": 782,
   "id": "4edac439",
   "metadata": {},
   "outputs": [
    {
     "data": {
      "text/html": [
       "<div>\n",
       "<style scoped>\n",
       "    .dataframe tbody tr th:only-of-type {\n",
       "        vertical-align: middle;\n",
       "    }\n",
       "\n",
       "    .dataframe tbody tr th {\n",
       "        vertical-align: top;\n",
       "    }\n",
       "\n",
       "    .dataframe thead th {\n",
       "        text-align: right;\n",
       "    }\n",
       "</style>\n",
       "<table border=\"1\" class=\"dataframe\">\n",
       "  <thead>\n",
       "    <tr style=\"text-align: right;\">\n",
       "      <th></th>\n",
       "      <th>product_name</th>\n",
       "      <th>price</th>\n",
       "      <th>image_link</th>\n",
       "    </tr>\n",
       "  </thead>\n",
       "  <tbody>\n",
       "    <tr>\n",
       "      <th>0</th>\n",
       "      <td>Women's Blue Round in Bugs Graphic Printed Ove...</td>\n",
       "      <td>₹542</td>\n",
       "      <td>https://images.bewakoof.com/t640/women-s-blue-...</td>\n",
       "    </tr>\n",
       "    <tr>\n",
       "      <th>1</th>\n",
       "      <td>Women's Black Boyfriend T-shirt</td>\n",
       "      <td>₹399</td>\n",
       "      <td>https://images.bewakoof.com/t640/women-s-black...</td>\n",
       "    </tr>\n",
       "    <tr>\n",
       "      <th>2</th>\n",
       "      <td>Men's Black T-shirt</td>\n",
       "      <td>₹499</td>\n",
       "      <td>https://images.bewakoof.com/t640/men-s-black-t...</td>\n",
       "    </tr>\n",
       "    <tr>\n",
       "      <th>3</th>\n",
       "      <td>Men's Jet Black Vest</td>\n",
       "      <td>₹399</td>\n",
       "      <td>https://images.bewakoof.com/t640/jet-black-ves...</td>\n",
       "    </tr>\n",
       "    <tr>\n",
       "      <th>4</th>\n",
       "      <td>Men's Black Batman Outline Logo T-shirt</td>\n",
       "      <td>₹399</td>\n",
       "      <td>https://images.bewakoof.com/t640/men-s-black-b...</td>\n",
       "    </tr>\n",
       "    <tr>\n",
       "      <th>5</th>\n",
       "      <td>Men's Black T-Shirts</td>\n",
       "      <td>₹499</td>\n",
       "      <td>https://images.bewakoof.com/t640/men-s-black-t...</td>\n",
       "    </tr>\n",
       "    <tr>\n",
       "      <th>6</th>\n",
       "      <td>Men's Black Iron Man of War Graphic Printed Vest</td>\n",
       "      <td>₹399</td>\n",
       "      <td>https://images.bewakoof.com/t640/iron-man-of-w...</td>\n",
       "    </tr>\n",
       "    <tr>\n",
       "      <th>7</th>\n",
       "      <td>Men's Black Friends Logo T-shirt</td>\n",
       "      <td>₹449</td>\n",
       "      <td>https://images.bewakoof.com/t640/men-s-black-f...</td>\n",
       "    </tr>\n",
       "    <tr>\n",
       "      <th>8</th>\n",
       "      <td>Women's Red Boyfriend T-shirt</td>\n",
       "      <td>₹399</td>\n",
       "      <td>https://images.bewakoof.com/t640/women-s-red-b...</td>\n",
       "    </tr>\n",
       "    <tr>\n",
       "      <th>9</th>\n",
       "      <td>Men's White T-shirt</td>\n",
       "      <td>₹449</td>\n",
       "      <td>https://images.bewakoof.com/t640/men-s-white-t...</td>\n",
       "    </tr>\n",
       "  </tbody>\n",
       "</table>\n",
       "</div>"
      ],
      "text/plain": [
       "                                        product_name price  \\\n",
       "0  Women's Blue Round in Bugs Graphic Printed Ove...  ₹542   \n",
       "1                    Women's Black Boyfriend T-shirt  ₹399   \n",
       "2                                Men's Black T-shirt  ₹499   \n",
       "3                               Men's Jet Black Vest  ₹399   \n",
       "4            Men's Black Batman Outline Logo T-shirt  ₹399   \n",
       "5                               Men's Black T-Shirts  ₹499   \n",
       "6   Men's Black Iron Man of War Graphic Printed Vest  ₹399   \n",
       "7                   Men's Black Friends Logo T-shirt  ₹449   \n",
       "8                      Women's Red Boyfriend T-shirt  ₹399   \n",
       "9                                Men's White T-shirt  ₹449   \n",
       "\n",
       "                                          image_link  \n",
       "0  https://images.bewakoof.com/t640/women-s-blue-...  \n",
       "1  https://images.bewakoof.com/t640/women-s-black...  \n",
       "2  https://images.bewakoof.com/t640/men-s-black-t...  \n",
       "3  https://images.bewakoof.com/t640/jet-black-ves...  \n",
       "4  https://images.bewakoof.com/t640/men-s-black-b...  \n",
       "5  https://images.bewakoof.com/t640/men-s-black-t...  \n",
       "6  https://images.bewakoof.com/t640/iron-man-of-w...  \n",
       "7  https://images.bewakoof.com/t640/men-s-black-f...  \n",
       "8  https://images.bewakoof.com/t640/women-s-red-b...  \n",
       "9  https://images.bewakoof.com/t640/men-s-white-t...  "
      ]
     },
     "execution_count": 782,
     "metadata": {},
     "output_type": "execute_result"
    }
   ],
   "source": [
    "df = pd.DataFrame({'product_name':product_name,'price':price,'image_link':image_link})\n",
    "df"
   ]
  },
  {
   "cell_type": "code",
   "execution_count": null,
   "id": "8b8d5a9f",
   "metadata": {},
   "outputs": [],
   "source": []
  },
  {
   "cell_type": "markdown",
   "id": "2ee8e084",
   "metadata": {},
   "source": [
    "## Q 5 Write a python program to scrape product name, price and discounts from\n",
    "\n",
    "https://peachmode.com/search?q=bags"
   ]
  },
  {
   "cell_type": "code",
   "execution_count": 733,
   "id": "5e66affc",
   "metadata": {},
   "outputs": [
    {
     "data": {
      "text/plain": [
       "<Response [200]>"
      ]
     },
     "execution_count": 733,
     "metadata": {},
     "output_type": "execute_result"
    }
   ],
   "source": [
    "web = requests.get('https://peachmode.com/search?q=bags')\n",
    "web"
   ]
  },
  {
   "cell_type": "code",
   "execution_count": 734,
   "id": "2745bdd1",
   "metadata": {},
   "outputs": [],
   "source": [
    "soup = BeautifulSoup(web.content)"
   ]
  },
  {
   "cell_type": "code",
   "execution_count": 712,
   "id": "96fba565",
   "metadata": {},
   "outputs": [],
   "source": [
    "products = []\n",
    "for product in soup.find_all('li'):\n",
    "    products.append(product)\n"
   ]
  },
  {
   "cell_type": "code",
   "execution_count": 117,
   "id": "b0bbd10c",
   "metadata": {},
   "outputs": [
    {
     "data": {
      "text/plain": [
       "[<span class=\"discounted_price st-money\">${currency }$${ numberWithComa(item.activeDiscountedPrice) }$</span>]"
      ]
     },
     "execution_count": 117,
     "metadata": {},
     "output_type": "execute_result"
    }
   ],
   "source": [
    "soup.find_all('span',class_=\"discounted_price st-money\")"
   ]
  },
  {
   "cell_type": "code",
   "execution_count": 68,
   "id": "808a73cf",
   "metadata": {},
   "outputs": [],
   "source": [
    "Name = []\n",
    "for i in soup.find_all('div',class_=\"product-prices\"):\n",
    "    Name.append(i.text)"
   ]
  },
  {
   "cell_type": "code",
   "execution_count": 69,
   "id": "e2d801d6",
   "metadata": {},
   "outputs": [
    {
     "data": {
      "text/plain": [
       "['\\nFrom \\n${currency }$${ numberWithComa(item.activeDiscountedPrice) }$\\n${ currency }$${numberWithComa(item.activePrice) }$\\n\\n',\n",
       " '\\n\\n${currency }$${ numberWithComa(item.activeDiscountedPrice) }$\\n']"
      ]
     },
     "execution_count": 69,
     "metadata": {},
     "output_type": "execute_result"
    }
   ],
   "source": [
    "Name"
   ]
  },
  {
   "cell_type": "code",
   "execution_count": 735,
   "id": "9555f1e9",
   "metadata": {},
   "outputs": [],
   "source": [
    "products = []\n",
    "for product in soup.find_all('div',class_=\"popover-container\"):\n",
    "    products.append(product.text)\n"
   ]
  },
  {
   "cell_type": "code",
   "execution_count": 736,
   "id": "836c4f1c",
   "metadata": {},
   "outputs": [
    {
     "data": {
      "text/plain": [
       "['\\n\\nCountry/region\\nIndia (INR ₹)\\n\\n\\n\\n\\n\\nCountry/region\\n\\n\\n\\n\\n\\n\\nAustralia (INR ₹)\\n                          \\n\\nAustria (INR ₹)\\n                          \\n\\nBelgium (INR ₹)\\n                          \\n\\nCanada (INR ₹)\\n                          \\n\\nCzechia (INR ₹)\\n                          \\n\\nDenmark (INR ₹)\\n                          \\n\\nFiji (INR ₹)\\n                          \\n\\nFinland (INR ₹)\\n                          \\n\\nFrance (INR ₹)\\n                          \\n\\nGermany (INR ₹)\\n                          \\n\\nHong Kong SAR (INR ₹)\\n                          \\n\\nIndia (INR ₹)\\n                          \\n\\nIreland (INR ₹)\\n                          \\n\\nIsrael (INR ₹)\\n                          \\n\\nItaly (INR ₹)\\n                          \\n\\nJapan (INR ₹)\\n                          \\n\\nKuwait (INR ₹)\\n                          \\n\\nMalaysia (INR ₹)\\n                          \\n\\nMauritius (INR ₹)\\n                          \\n\\nNetherlands (INR ₹)\\n                          \\n\\nNew Zealand (INR ₹)\\n                          \\n\\nNorway (INR ₹)\\n                          \\n\\nPoland (INR ₹)\\n                          \\n\\nPortugal (INR ₹)\\n                          \\n\\nQatar (INR ₹)\\n                          \\n\\nSaudi Arabia (INR ₹)\\n                          \\n\\nSingapore (INR ₹)\\n                          \\n\\nSouth Africa (INR ₹)\\n                          \\n\\nSpain (INR ₹)\\n                          \\n\\nSri Lanka (INR ₹)\\n                          \\n\\nSweden (INR ₹)\\n                          \\n\\nSwitzerland (INR ₹)\\n                          \\n\\nThailand (INR ₹)\\n                          \\n\\nUnited Arab Emirates (INR ₹)\\n                          \\n\\nUnited Kingdom (INR ₹)\\n                          \\n\\nUnited States (INR ₹)\\n                          \\n\\nVietnam (INR ₹)\\n                          \\n\\n\\n\\n',\n",
       " '\\n\\nCountry/region\\nIndia (INR ₹)\\n\\n\\n\\n\\n\\nCountry/region\\n\\n\\n\\n\\n\\n\\nAustralia (INR ₹)\\n                          \\n\\nAustria (INR ₹)\\n                          \\n\\nBelgium (INR ₹)\\n                          \\n\\nCanada (INR ₹)\\n                          \\n\\nCzechia (INR ₹)\\n                          \\n\\nDenmark (INR ₹)\\n                          \\n\\nFiji (INR ₹)\\n                          \\n\\nFinland (INR ₹)\\n                          \\n\\nFrance (INR ₹)\\n                          \\n\\nGermany (INR ₹)\\n                          \\n\\nHong Kong SAR (INR ₹)\\n                          \\n\\nIndia (INR ₹)\\n                          \\n\\nIreland (INR ₹)\\n                          \\n\\nIsrael (INR ₹)\\n                          \\n\\nItaly (INR ₹)\\n                          \\n\\nJapan (INR ₹)\\n                          \\n\\nKuwait (INR ₹)\\n                          \\n\\nMalaysia (INR ₹)\\n                          \\n\\nMauritius (INR ₹)\\n                          \\n\\nNetherlands (INR ₹)\\n                          \\n\\nNew Zealand (INR ₹)\\n                          \\n\\nNorway (INR ₹)\\n                          \\n\\nPoland (INR ₹)\\n                          \\n\\nPortugal (INR ₹)\\n                          \\n\\nQatar (INR ₹)\\n                          \\n\\nSaudi Arabia (INR ₹)\\n                          \\n\\nSingapore (INR ₹)\\n                          \\n\\nSouth Africa (INR ₹)\\n                          \\n\\nSpain (INR ₹)\\n                          \\n\\nSri Lanka (INR ₹)\\n                          \\n\\nSweden (INR ₹)\\n                          \\n\\nSwitzerland (INR ₹)\\n                          \\n\\nThailand (INR ₹)\\n                          \\n\\nUnited Arab Emirates (INR ₹)\\n                          \\n\\nUnited Kingdom (INR ₹)\\n                          \\n\\nUnited States (INR ₹)\\n                          \\n\\nVietnam (INR ₹)\\n                          \\n\\n\\n\\n']"
      ]
     },
     "execution_count": 736,
     "metadata": {},
     "output_type": "execute_result"
    }
   ],
   "source": [
    "products"
   ]
  },
  {
   "cell_type": "code",
   "execution_count": null,
   "id": "2f4c5ec1",
   "metadata": {},
   "outputs": [],
   "source": []
  },
  {
   "cell_type": "markdown",
   "id": "f0dfd536",
   "metadata": {},
   "source": [
    "### i am not able to find the answer kindly help me to get the answer, kindly arrange a session again for better understanding "
   ]
  },
  {
   "cell_type": "code",
   "execution_count": null,
   "id": "15323ebe",
   "metadata": {},
   "outputs": [],
   "source": []
  },
  {
   "cell_type": "markdown",
   "id": "be1f4560",
   "metadata": {},
   "source": [
    "## Q 6 Write a python program to scrape cricket rankings from icc-cricket.com. You have to scrape:\n",
    "a) Top 10 ODI teams in men’s cricket along with the records for matches, points and rating.\n",
    "\n",
    "b) Top 10 ODI Batsmen along with the records of their team and rating.\n",
    "\n",
    "c) Top 10 ODI bowlers along with the records of their team and rating."
   ]
  },
  {
   "cell_type": "code",
   "execution_count": 617,
   "id": "abf3015f",
   "metadata": {},
   "outputs": [],
   "source": [
    "import requests\n",
    "from bs4 import BeautifulSoup\n",
    "import pandas as pd"
   ]
  },
  {
   "cell_type": "code",
   "execution_count": 774,
   "id": "f511b55b",
   "metadata": {},
   "outputs": [],
   "source": [
    "page=requests.get(\"https://www.icc-cricket.com/rankings/team-rankings/mens/odi\")"
   ]
  },
  {
   "cell_type": "code",
   "execution_count": 775,
   "id": "5e92e930",
   "metadata": {},
   "outputs": [
    {
     "data": {
      "text/plain": [
       "<Response [200]>"
      ]
     },
     "execution_count": 775,
     "metadata": {},
     "output_type": "execute_result"
    }
   ],
   "source": [
    "page"
   ]
  },
  {
   "cell_type": "code",
   "execution_count": 776,
   "id": "1ddbbbd8",
   "metadata": {
    "scrolled": true
   },
   "outputs": [],
   "source": [
    "soup = BeautifulSoup(page.content,'html.parser')"
   ]
  },
  {
   "cell_type": "code",
   "execution_count": 628,
   "id": "2dd2c17f",
   "metadata": {},
   "outputs": [],
   "source": [
    "table = soup.find_all('div',class_=\"si-table-row\")"
   ]
  },
  {
   "cell_type": "code",
   "execution_count": 629,
   "id": "70e9300a",
   "metadata": {},
   "outputs": [
    {
     "data": {
      "text/plain": [
       "[]"
      ]
     },
     "execution_count": 629,
     "metadata": {},
     "output_type": "execute_result"
    }
   ],
   "source": [
    "table"
   ]
  },
  {
   "cell_type": "code",
   "execution_count": 732,
   "id": "ca42ea32",
   "metadata": {},
   "outputs": [
    {
     "data": {
      "text/plain": [
       "[]"
      ]
     },
     "execution_count": 732,
     "metadata": {},
     "output_type": "execute_result"
    }
   ],
   "source": [
    "team = []     \n",
    "    \n",
    "for i in msoup.find_all('span' ,class_ = \"u-hide-phablet\"):\n",
    "    team.append (i. text)\n",
    "    print(i.text)\n",
    "\n",
    "team"
   ]
  },
  {
   "cell_type": "code",
   "execution_count": null,
   "id": "73ac8faa",
   "metadata": {},
   "outputs": [],
   "source": []
  },
  {
   "cell_type": "markdown",
   "id": "f70000c9",
   "metadata": {},
   "source": [
    "### i am not able to find the answer kindly help me to get the answer, kindly arrange a session again for better understanding "
   ]
  },
  {
   "cell_type": "code",
   "execution_count": null,
   "id": "260dd7a1",
   "metadata": {},
   "outputs": [],
   "source": []
  },
  {
   "cell_type": "markdown",
   "id": "56226d18",
   "metadata": {},
   "source": [
    "## Q7 Write a python program to scrape details of all the posts from https://www.patreon.com/coreyms .Scrape the\n",
    "heading, date, content and the likes for the video from the link for the youtube video from the post."
   ]
  },
  {
   "cell_type": "code",
   "execution_count": 665,
   "id": "54db9d0a",
   "metadata": {},
   "outputs": [],
   "source": [
    "page = requests.get('https://www.patreon.com/coreyms')"
   ]
  },
  {
   "cell_type": "code",
   "execution_count": 666,
   "id": "74f629b0",
   "metadata": {},
   "outputs": [
    {
     "data": {
      "text/plain": [
       "<Response [200]>"
      ]
     },
     "execution_count": 666,
     "metadata": {},
     "output_type": "execute_result"
    }
   ],
   "source": [
    "page"
   ]
  },
  {
   "cell_type": "code",
   "execution_count": 667,
   "id": "594853f4",
   "metadata": {},
   "outputs": [],
   "source": [
    "soup = BeautifulSoup(page.content)"
   ]
  },
  {
   "cell_type": "code",
   "execution_count": 698,
   "id": "d95afb22",
   "metadata": {},
   "outputs": [],
   "source": [
    "content = []\n",
    "for i in soup.find_all('div',class_=\"sc-1ye87qi-0 bCBphS\"):\n",
    "    header.append(i.text)"
   ]
  },
  {
   "cell_type": "code",
   "execution_count": 699,
   "id": "1cce0eb4",
   "metadata": {},
   "outputs": [
    {
     "data": {
      "text/plain": [
       "[]"
      ]
     },
     "execution_count": 699,
     "metadata": {},
     "output_type": "execute_result"
    }
   ],
   "source": [
    "content"
   ]
  },
  {
   "cell_type": "code",
   "execution_count": 694,
   "id": "a656ca2a",
   "metadata": {},
   "outputs": [],
   "source": [
    "date = []\n",
    "for i in soup.find_all('a',class_=\"sc-jQrDum bMyBFw\"):\n",
    "    date.append(i.text)"
   ]
  },
  {
   "cell_type": "code",
   "execution_count": 695,
   "id": "bcc9aade",
   "metadata": {},
   "outputs": [
    {
     "data": {
      "text/plain": [
       "[]"
      ]
     },
     "execution_count": 695,
     "metadata": {},
     "output_type": "execute_result"
    }
   ],
   "source": [
    "date"
   ]
  },
  {
   "cell_type": "code",
   "execution_count": null,
   "id": "852e23d1",
   "metadata": {},
   "outputs": [],
   "source": []
  },
  {
   "cell_type": "code",
   "execution_count": 700,
   "id": "4f7b1c45",
   "metadata": {},
   "outputs": [],
   "source": [
    "head = []\n",
    "for i in soup.find_all('span',class_=\"sc-1hmaiaw-0 fIBzIT\"):\n",
    "    head.append(i.text)"
   ]
  },
  {
   "cell_type": "code",
   "execution_count": 701,
   "id": "512e50b4",
   "metadata": {},
   "outputs": [
    {
     "data": {
      "text/plain": [
       "[]"
      ]
     },
     "execution_count": 701,
     "metadata": {},
     "output_type": "execute_result"
    }
   ],
   "source": [
    "head"
   ]
  },
  {
   "cell_type": "code",
   "execution_count": null,
   "id": "4c4e0d0d",
   "metadata": {},
   "outputs": [],
   "source": []
  },
  {
   "cell_type": "code",
   "execution_count": 702,
   "id": "842b28d0",
   "metadata": {},
   "outputs": [],
   "source": [
    "like = []\n",
    "for i in soup.find_all('span',class_=\"sc-fotOHu dFvBhM\"):\n",
    "    line.append(i.text)"
   ]
  },
  {
   "cell_type": "code",
   "execution_count": 703,
   "id": "54f63363",
   "metadata": {},
   "outputs": [
    {
     "data": {
      "text/plain": [
       "[]"
      ]
     },
     "execution_count": 703,
     "metadata": {},
     "output_type": "execute_result"
    }
   ],
   "source": [
    "like"
   ]
  },
  {
   "cell_type": "markdown",
   "id": "1470972e",
   "metadata": {},
   "source": [
    "### i am not able to find the answer kindly help me to get the answer, kindly arrange a session again for better understanding "
   ]
  },
  {
   "cell_type": "code",
   "execution_count": null,
   "id": "ce47b82b",
   "metadata": {},
   "outputs": [],
   "source": []
  },
  {
   "cell_type": "markdown",
   "id": "86d67525",
   "metadata": {},
   "source": [
    "## Q 8 Write a python program to scrape house details from mentioned URL. It should include house title, location,\n",
    "## area, EMI and price from https://www.nobroker.in/ .Enter three localities which are Indira Nagar, Jayanagar,\n",
    "## Rajaji Nagar."
   ]
  },
  {
   "cell_type": "code",
   "execution_count": 466,
   "id": "c5269f80",
   "metadata": {},
   "outputs": [],
   "source": [
    "page = requests.get('https://www.nobroker.in/')"
   ]
  },
  {
   "cell_type": "code",
   "execution_count": 467,
   "id": "467203e8",
   "metadata": {},
   "outputs": [],
   "source": [
    "soup = BeautifulSoup(page.content)"
   ]
  },
  {
   "cell_type": "code",
   "execution_count": 470,
   "id": "a234288a",
   "metadata": {},
   "outputs": [],
   "source": [
    "house_title=soup.find_all(\"h2\",class_=\"heading-6 flex items-center font-semi-bold m-0\")\n",
    "htitle=[]\n",
    "for i in house_title:\n",
    "    for j in i.find_all(\"a\"):\n",
    "        htitle.append(i.text)"
   ]
  },
  {
   "cell_type": "code",
   "execution_count": 471,
   "id": "e9dc83e8",
   "metadata": {},
   "outputs": [
    {
     "data": {
      "text/plain": [
       "[]"
      ]
     },
     "execution_count": 471,
     "metadata": {},
     "output_type": "execute_result"
    }
   ],
   "source": [
    "htitle"
   ]
  },
  {
   "cell_type": "code",
   "execution_count": 641,
   "id": "95273e3f",
   "metadata": {},
   "outputs": [],
   "source": [
    "title = []\n",
    "for i in soup.find_all('h2',class_=\"overflow-hidden overflow-ellipsis\"):\n",
    "    title.append(i.text)"
   ]
  },
  {
   "cell_type": "code",
   "execution_count": 642,
   "id": "d56a87db",
   "metadata": {},
   "outputs": [
    {
     "data": {
      "text/plain": [
       "[]"
      ]
     },
     "execution_count": 642,
     "metadata": {},
     "output_type": "execute_result"
    }
   ],
   "source": [
    "title"
   ]
  }
 ],
 "metadata": {
  "kernelspec": {
   "display_name": "Python 3 (ipykernel)",
   "language": "python",
   "name": "python3"
  },
  "language_info": {
   "codemirror_mode": {
    "name": "ipython",
    "version": 3
   },
   "file_extension": ".py",
   "mimetype": "text/x-python",
   "name": "python",
   "nbconvert_exporter": "python",
   "pygments_lexer": "ipython3",
   "version": "3.11.5"
  }
 },
 "nbformat": 4,
 "nbformat_minor": 5
}
